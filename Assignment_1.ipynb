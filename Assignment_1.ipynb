{
  "nbformat": 4,
  "nbformat_minor": 0,
  "metadata": {
    "colab": {
      "name": " Assignment 1.ipynb",
      "provenance": [],
      "collapsed_sections": []
    },
    "kernelspec": {
      "name": "python3",
      "display_name": "Python 3"
    }
  },
  "cells": [
    {
      "cell_type": "markdown",
      "metadata": {
        "id": "vZNhgbzCLmaI",
        "colab_type": "text"
      },
      "source": [
        "Q-1) Write a program which will find all such numbers which are divisible by 7 but are not a multiple\n",
        "of 5, between 2000 and 3200 (both included). The numbers obtained should be printed in a\n",
        "comma-separated sequence on a single line.\n"
      ]
    },
    {
      "cell_type": "code",
      "metadata": {
        "id": "oCwvWmNaJ81w",
        "colab_type": "code",
        "colab": {
          "base_uri": "https://localhost:8080/",
          "height": 53
        },
        "outputId": "15de1978-70eb-467e-a15c-59e67b5ccf31"
      },
      "source": [
        "arr = []\n",
        "for i in range(2000,3200):\n",
        "  if(i%7==0) and (i%5!=0):\n",
        "    arr.append(i)\n",
        "print(arr)\n"
      ],
      "execution_count": 1,
      "outputs": [
        {
          "output_type": "stream",
          "text": [
            "[2002, 2009, 2016, 2023, 2037, 2044, 2051, 2058, 2072, 2079, 2086, 2093, 2107, 2114, 2121, 2128, 2142, 2149, 2156, 2163, 2177, 2184, 2191, 2198, 2212, 2219, 2226, 2233, 2247, 2254, 2261, 2268, 2282, 2289, 2296, 2303, 2317, 2324, 2331, 2338, 2352, 2359, 2366, 2373, 2387, 2394, 2401, 2408, 2422, 2429, 2436, 2443, 2457, 2464, 2471, 2478, 2492, 2499, 2506, 2513, 2527, 2534, 2541, 2548, 2562, 2569, 2576, 2583, 2597, 2604, 2611, 2618, 2632, 2639, 2646, 2653, 2667, 2674, 2681, 2688, 2702, 2709, 2716, 2723, 2737, 2744, 2751, 2758, 2772, 2779, 2786, 2793, 2807, 2814, 2821, 2828, 2842, 2849, 2856, 2863, 2877, 2884, 2891, 2898, 2912, 2919, 2926, 2933, 2947, 2954, 2961, 2968, 2982, 2989, 2996, 3003, 3017, 3024, 3031, 3038, 3052, 3059, 3066, 3073, 3087, 3094, 3101, 3108, 3122, 3129, 3136, 3143, 3157, 3164, 3171, 3178, 3192, 3199]\n"
          ],
          "name": "stdout"
        }
      ]
    },
    {
      "cell_type": "markdown",
      "metadata": {
        "id": "OEubiqG-T-OP",
        "colab_type": "text"
      },
      "source": [
        "Q-2) Write a Python program to accept the user's first and last name and then getting them printed in\n",
        "the the reverse order with a space between first name and last name.\n"
      ]
    },
    {
      "cell_type": "code",
      "metadata": {
        "id": "c4gTzZNRKAAw",
        "colab_type": "code",
        "colab": {
          "base_uri": "https://localhost:8080/",
          "height": 66
        },
        "outputId": "2077f899-dc19-4e0b-c685-243727d617d0"
      },
      "source": [
        "firstname = input(\"Enter your firstname : \")\n",
        "lastname = input(\"Enter your lastname : \")\n",
        "fn = firstname[::-1]\n",
        "ln = lastname[::-1]\n",
        "print(\"Reverse name : \" , fn , \" \" , ln)"
      ],
      "execution_count": 2,
      "outputs": [
        {
          "output_type": "stream",
          "text": [
            "Enter your firstname : Soumyaranjan\n",
            "Enter your lastname : Mishra\n",
            "Reverse name :  najnaraymuoS   arhsiM\n"
          ],
          "name": "stdout"
        }
      ]
    },
    {
      "cell_type": "markdown",
      "metadata": {
        "id": "3y68HnDaV8hb",
        "colab_type": "text"
      },
      "source": [
        "Q-3) Write a Python program to find the volume of a sphere with diameter 12 cm.\n",
        "Formula: V=4/3 * π * r\n",
        "3"
      ]
    },
    {
      "cell_type": "code",
      "metadata": {
        "id": "cqwE_PLqJ_8f",
        "colab_type": "code",
        "colab": {
          "base_uri": "https://localhost:8080/",
          "height": 34
        },
        "outputId": "0e4e6153-cfc7-4932-dc18-ded9f0f4b271"
      },
      "source": [
        "pi = 22/7\n",
        "r = 12/2\n",
        "v = (4/3)* (pi * r**3)\n",
        "\n",
        "print(\"Volume of sphere is : \" , v)"
      ],
      "execution_count": 3,
      "outputs": [
        {
          "output_type": "stream",
          "text": [
            "Volume of sphere is :  905.1428571428571\n"
          ],
          "name": "stdout"
        }
      ]
    },
    {
      "cell_type": "markdown",
      "metadata": {
        "id": "Oeg-6glZW0Kr",
        "colab_type": "text"
      },
      "source": [
        "Q-4) Write a program which accepts a sequence of comma-separated numbers from console and\n",
        "generate a list."
      ]
    },
    {
      "cell_type": "code",
      "metadata": {
        "id": "WEBnQa-EJ_3r",
        "colab_type": "code",
        "colab": {
          "base_uri": "https://localhost:8080/",
          "height": 51
        },
        "outputId": "5b43db7d-bf69-4285-b4a3-a21040727304"
      },
      "source": [
        "nums = input(\"Enter some comma separated numbers : \")\n",
        "list = nums.split(',')\n",
        "print(\"List :\" , list)"
      ],
      "execution_count": 4,
      "outputs": [
        {
          "output_type": "stream",
          "text": [
            "Enter some comma separated numbers : 12,2,345,56,6778,56,56,34\n",
            "List : ['12', '2', '345', '56', '6778', '56', '56', '34']\n"
          ],
          "name": "stdout"
        }
      ]
    },
    {
      "cell_type": "markdown",
      "metadata": {
        "id": "aVaYowimaSo1",
        "colab_type": "text"
      },
      "source": [
        "Q-5) Create the below pattern using nested for loop in Python."
      ]
    },
    {
      "cell_type": "code",
      "metadata": {
        "id": "arEeIjjvJ_05",
        "colab_type": "code",
        "colab": {
          "base_uri": "https://localhost:8080/",
          "height": 187
        },
        "outputId": "e8cb80ca-284c-4a2c-a6f9-b34a4b2c2d45"
      },
      "source": [
        "s = 5\n",
        "for i in range(s):\n",
        "  for j in range(i):\n",
        "    print(\"*\",end=\"\")\n",
        "  print(\" \")\n",
        "for p in range(s,0,-1):\n",
        "  for q in range(p):\n",
        "    print(\"*\",end=\"\")\n",
        "  print(\" \")"
      ],
      "execution_count": 5,
      "outputs": [
        {
          "output_type": "stream",
          "text": [
            " \n",
            "* \n",
            "** \n",
            "*** \n",
            "**** \n",
            "***** \n",
            "**** \n",
            "*** \n",
            "** \n",
            "* \n"
          ],
          "name": "stdout"
        }
      ]
    },
    {
      "cell_type": "markdown",
      "metadata": {
        "id": "M7EMx_uvbnWB",
        "colab_type": "text"
      },
      "source": [
        "Q-6) Write a Python program to reverse a word after accepting the input from the user.\n"
      ]
    },
    {
      "cell_type": "code",
      "metadata": {
        "id": "Q0RTqH0EJ_wH",
        "colab_type": "code",
        "colab": {
          "base_uri": "https://localhost:8080/",
          "height": 51
        },
        "outputId": "b83df2c0-8237-43f7-c5e5-c09da034c921"
      },
      "source": [
        "input_text = input(\"Enter some text : \")\n",
        "rev_text = input_text[::-1]\n",
        "print(\"Reverse word : \" ,rev_text) "
      ],
      "execution_count": 6,
      "outputs": [
        {
          "output_type": "stream",
          "text": [
            "Enter some text : Hello how are you\n",
            "Reverse word :  uoy era woh olleH\n"
          ],
          "name": "stdout"
        }
      ]
    },
    {
      "cell_type": "markdown",
      "metadata": {
        "id": "fiBYd1Tkc5ZZ",
        "colab_type": "text"
      },
      "source": [
        "Q-7) Write a Python Program to print the given string in the format specified in the sample output.\n",
        "\n",
        "WE, THE PEOPLE OF INDIA, having solemnly resolved to constitute India into a\n",
        "SOVEREIGN, SOCIALIST, SECULAR, DEMOCRATIC REPUBLIC and to secure to all\n",
        "its citizens\n"
      ]
    },
    {
      "cell_type": "code",
      "metadata": {
        "id": "jk_WtTMsc9Es",
        "colab_type": "code",
        "colab": {
          "base_uri": "https://localhost:8080/",
          "height": 85
        },
        "outputId": "3fdb2683-a69d-40da-bf77-e08ebd66e58e"
      },
      "source": [
        "print(\"WE, THE PEOPLE OF INDIA,\\n\\t having solemnly resolved to constitute India into a SOVEREIGN, \\n\\t\\t SOCIALIST, SECULAR, DEMOCRATIC REPUBLIC \\n\\t\\t and to secure to all its citizens\")"
      ],
      "execution_count": 7,
      "outputs": [
        {
          "output_type": "stream",
          "text": [
            "WE, THE PEOPLE OF INDIA,\n",
            "\t having solemnly resolved to constitute India into a SOVEREIGN, \n",
            "\t\t SOCIALIST, SECULAR, DEMOCRATIC REPUBLIC \n",
            "\t\t and to secure to all its citizens\n"
          ],
          "name": "stdout"
        }
      ]
    }
  ]
}